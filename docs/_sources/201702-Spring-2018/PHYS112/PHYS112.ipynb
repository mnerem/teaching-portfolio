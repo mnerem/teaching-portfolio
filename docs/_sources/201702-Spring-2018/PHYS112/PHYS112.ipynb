{
 "cells": [
  {
   "cell_type": "markdown",
   "id": "51c89b4c-f7f4-4e99-80b3-720ae37e4bb7",
   "metadata": {},
   "source": [
    "(2018-Spring-PHYS112)=\n",
    "# PHYS 112N. Introductory General Physics\n",
    "\n",
    "Emphasizes electricity, light, and introduction to modern physics. Prerequisites: PHYS 111N and MATH 102M (or MATH 103M) or MATH 162M or MATH 166. (offered fall, spring, summer).\n",
    "\n",
    "**Include link to syllabus somehow**"
   ]
  },
  {
   "cell_type": "code",
   "execution_count": 1,
   "id": "c54dc238-c0a9-47dd-8a1c-10f3193ae558",
   "metadata": {
    "tags": [
     "hide-cell"
    ]
   },
   "outputs": [],
   "source": [
    "# import libraries to recreate analysis of the semester\n",
    "import numpy as np\n",
    "import pandas as pd"
   ]
  },
  {
   "cell_type": "code",
   "execution_count": 3,
   "id": "985f4885-377a-4f80-b413-e1308e5e163f",
   "metadata": {},
   "outputs": [
    {
     "data": {
      "text/plain": [
       "array([  0,   5,  10,  15,  20,  25,  30,  35,  40,  45,  50,  55,  60,\n",
       "        65,  70,  75,  80,  85,  90,  95, 100])"
      ]
     },
     "execution_count": 3,
     "metadata": {},
     "output_type": "execute_result"
    }
   ],
   "source": [
    "x=np.arange(0,105,5)\n",
    "x"
   ]
  }
 ],
 "metadata": {
  "kernelspec": {
   "display_name": "Python 3",
   "language": "python",
   "name": "python3"
  },
  "language_info": {
   "codemirror_mode": {
    "name": "ipython",
    "version": 3
   },
   "file_extension": ".py",
   "mimetype": "text/x-python",
   "name": "python",
   "nbconvert_exporter": "python",
   "pygments_lexer": "ipython3",
   "version": "3.6.9"
  }
 },
 "nbformat": 4,
 "nbformat_minor": 5
}
