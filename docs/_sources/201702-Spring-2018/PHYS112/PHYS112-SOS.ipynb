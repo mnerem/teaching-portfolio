{
 "cells": [
  {
   "cell_type": "markdown",
   "id": "a2084bcc-e538-41da-8031-8cb42e36f9a5",
   "metadata": {},
   "source": [
    "(2018-Spring-PHYS112-SOS)=\n",
    "# Student Opinion Surveys\n",
    "\n",
    "# PHYS112 (2018-Spring)"
   ]
  },
  {
   "cell_type": "markdown",
   "id": "b39c156d-f3da-40cd-9c0b-a3a51059b916",
   "metadata": {},
   "source": [
    "## SOS for CRN 20136 (TR Lectures)"
   ]
  },
  {
   "cell_type": "code",
   "execution_count": 20,
   "id": "34d1a09a-120b-4886-8d97-8630aef0a263",
   "metadata": {
    "tags": [
     "remove-input",
     "remove-output"
    ]
   },
   "outputs": [
    {
     "name": "stdout",
     "output_type": "stream",
     "text": [
      "| Topic      |   -- | Questions                                                                                                                                                                   |   1 |   2 |   3 |   4 |   5 |   NA |   N |   NR |   Mean |   Instructor Mean |\n",
      "|:-----------|-----:|:----------------------------------------------------------------------------------------------------------------------------------------------------------------------------|----:|----:|----:|----:|----:|-----:|----:|-----:|-------:|------------------:|\n",
      "| Course     |    1 | The course materials, exams, projects and/or papers in this class required me to think critically.                                                                          |   1 |   1 |   0 |   6 |   9 |    0 |  17 |    0 |   4.24 |              4.02 |\n",
      "| Course     |    2 | In order to get good grades on tests and assignments, I had to know the course materials outlined in the syllabus and discussed in class.                                   |   1 |   1 |   0 |   4 |  11 |    0 |  17 |    0 |   4.35 |              4.26 |\n",
      "| Course     |    3 | Overall, I have learned or benefited from this class.                                                                                                                       |   2 |   4 |   0 |   5 |   6 |    0 |  17 |    0 |   3.53 |              3.73 |\n",
      "| Instructor |    4 | In the first week of class, the instructor provided documents and information that clearly explained the course content, assignments, grading and other important policies. |   0 |   1 |   1 |   9 |   6 |    0 |  17 |    0 |   4.18 |              4.28 |\n",
      "| Instructor |    5 | The instructor welcomed questions and other class participation.                                                                                                            |   1 |   0 |   1 |   7 |   8 |    0 |  17 |    0 |   4.24 |              4.45 |\n",
      "| Instructor |    6 | The instructor was enthusiastic with respect to the subject matter.                                                                                                         |   0 |   0 |   0 |   5 |  12 |    0 |  17 |    0 |   4.71 |              4.62 |\n",
      "| Instructor |    7 | The instructor was available for consultation and helpful.                                                                                                                  |   0 |   0 |   1 |   8 |   7 |    1 |  17 |    0 |   4.38 |              4.18 |\n",
      "| Instructor |    8 | The instructor used the full time period allotted for the class.                                                                                                            |   0 |   0 |   0 |   7 |  10 |    0 |  17 |    0 |   4.59 |              4.56 |\n",
      "| Instructor |    9 | The instructor's presentations were informative.                                                                                                                            |   0 |   1 |   3 |   7 |   6 |    0 |  17 |    0 |   4.06 |              4.09 |\n",
      "| Instructor |   10 | Overall, the instructor is an effective teacher.                                                                                                                            |   0 |   2 |   3 |   7 |   5 |    0 |  17 |    0 |   3.88 |              3.86 |\n"
     ]
    }
   ],
   "source": [
    "import pandas as pd\n",
    "sos=pd.read_excel('../../../../Student-Opinion-Surveys/201720-PHYS112-20136-SOS.xlsx',sheet_name='sos')\n",
    "sosmdtable=sos.to_markdown(index=False)\n",
    "print(sosmdtable)"
   ]
  },
  {
   "cell_type": "markdown",
   "id": "0d3f4b0b-e715-487e-be9e-41cce7b6a5a3",
   "metadata": {},
   "source": [
    "| Topic      |   -- | Questions                                                                                                                                                                   |   1 |   2 |   3 |   4 |   5 |   NA |   N |   NR |   Mean |   Instructor Mean |\n",
    "|:-----------|-----:|:----------------------------------------------------------------------------------------------------------------------------------------------------------------------------|----:|----:|----:|----:|----:|-----:|----:|-----:|-------:|------------------:|\n",
    "| Course     |    1 | The course materials, exams, projects and/or papers in this class required me to think critically.                                                                          |   1 |   1 |   0 |   6 |   9 |    0 |  17 |    0 |   4.24 |              4.02 |\n",
    "| Course     |    2 | In order to get good grades on tests and assignments, I had to know the course materials outlined in the syllabus and discussed in class.                                   |   1 |   1 |   0 |   4 |  11 |    0 |  17 |    0 |   4.35 |              4.26 |\n",
    "| Course     |    3 | Overall, I have learned or benefited from this class.                                                                                                                       |   2 |   4 |   0 |   5 |   6 |    0 |  17 |    0 |   3.53 |              3.73 |\n",
    "| Instructor |    4 | In the first week of class, the instructor provided documents and information that clearly explained the course content, assignments, grading and other important policies. |   0 |   1 |   1 |   9 |   6 |    0 |  17 |    0 |   4.18 |              4.28 |\n",
    "| Instructor |    5 | The instructor welcomed questions and other class participation.                                                                                                            |   1 |   0 |   1 |   7 |   8 |    0 |  17 |    0 |   4.24 |              4.45 |\n",
    "| Instructor |    6 | The instructor was enthusiastic with respect to the subject matter.                                                                                                         |   0 |   0 |   0 |   5 |  12 |    0 |  17 |    0 |   4.71 |              4.62 |\n",
    "| Instructor |    7 | The instructor was available for consultation and helpful.                                                                                                                  |   0 |   0 |   1 |   8 |   7 |    1 |  17 |    0 |   4.38 |              4.18 |\n",
    "| Instructor |    8 | The instructor used the full time period allotted for the class.                                                                                                            |   0 |   0 |   0 |   7 |  10 |    0 |  17 |    0 |   4.59 |              4.56 |\n",
    "| Instructor |    9 | The instructor's presentations were informative.                                                                                                                            |   0 |   1 |   3 |   7 |   6 |    0 |  17 |    0 |   4.06 |              4.09 |\n",
    "| Instructor |   10 | Overall, the instructor is an effective teacher.                                                                                                                            |   0 |   2 |   3 |   7 |   5 |    0 |  17 |    0 |   3.88 |              3.86 |"
   ]
  },
  {
   "cell_type": "markdown",
   "id": "3c60b2e8-b601-4750-9f6f-a2411c20fb12",
   "metadata": {},
   "source": [
    "### Essay Responses"
   ]
  },
  {
   "cell_type": "code",
   "execution_count": 53,
   "id": "b7792432-7a82-4a67-8c67-51dc6bc87e83",
   "metadata": {
    "collapsed": true,
    "jupyter": {
     "outputs_hidden": true
    },
    "tags": [
     "remove-input",
     "remove-output"
    ]
   },
   "outputs": [
    {
     "name": "stdout",
     "output_type": "stream",
     "text": [
      "**What changes, if any, could be made to the class that would have helped you to learn more? What could the instructor have done to make the course an even better learning experience?**\n",
      "\n",
      "```{toggle}\n",
      "* Honestly, I just wasn't interested in this course. I don't understand why I am required to take two semesters of physics. \n",
      "* I cant think of any changes to improve the course.\n",
      "* I would have reduced the confusion of some of the homework assignments. \n",
      "* made the homework more like the exams or the exams more like the homework. they aren't compatible with each other\n",
      "* Mastering physics is semi-effective at helping prepare for tests. I wish there was more guidance throughout the homework since sometimes it feels as if the homework is a test, and not practicing the steps of completing a physics problem. \n",
      "* More practice problems during lecture\n",
      "* SLOW DOWN, the instructor seemed to rush through alot of material so it was sometimes hard to follow along or understand because we moved at such a high speed. \n",
      "* Sometimes it was hard to follow along with really long examples on the chalk board.  Maybe organize these examples better, or find another medium to present them on.  Maybe chalk board isn't the best place to write out super long problems.\n",
      "* The instructor needs to take more time to explain the material & not rush through it. He's all over the place when teaching\n",
      "\n",
      "```\n",
      "\n",
      "**What could you have done to make the course an even better learning experience?**\n",
      "\n",
      "```{toggle}\n",
      "* allow students to create their own formula sheets or at least include units on the provided formula sheet\n",
      "* Gone over the powerpoints again after class and stayed ahead with the reading.\n",
      "* I could have actually studied. \n",
      "* I could have attended all of the classes, and taken more extensive notes.\n",
      "* I could have spend more time with the material and also utilized going to office hours for help. \n",
      "* I could have taken better notes during lecture\n",
      "* If I did practice problems in the textbook, I may have understood the content just a little better.\n",
      "* studied more\n",
      "* Studied more. \n",
      "\n",
      "```\n",
      "\n",
      "**What did you like most about the class and your instructor?**\n",
      "\n",
      "```{toggle}\n",
      "* He obviously loves the subject \n",
      "* He was enthusiastic and welcomed all questions\n",
      "* his involvement\n",
      "* How helpful the professor was if you needed it.\n",
      "* My instructor was very nice and approachable.  I was never scared to ask a question when I was confused.  My instructor also presents visual representations of the topics, such as using parallel and series circuits to show differences in light to the lightbulbs connected to the circuit.  Visual representations helped me better understand the topics.\n",
      "* The enthusiasm of the taught material. This professor was a step above others here as he explained physics with demonstrations and other real world applications. Lectures were interesting and informative. \n",
      "* The instructor was very engaging, with multiple demonstrations to help better understand the material.\n",
      "* The instructor was very enthusiastic about what he was teaching with alot of visual examples in lecture that helped me stay focused and interested during the class. \n",
      "\n",
      "```\n",
      "\n",
      "**What factors about this class contributed the most to your learning? What aspects of this class helped you to learn to think critically?**\n",
      "\n",
      "```{toggle}\n",
      "* Homework\n",
      "* its interesting\n",
      "* Taking detailed notes, doing all the homework, and reviewing lecture slides most helped me think critically and learn the material. \n",
      "* The demonstrations and workin problem after problem out in class\n",
      "* The homework's and tests required me to think critically.\n",
      "* The mastering physics homework, the examples helped with the tests and being able to connect concepts. \n",
      "* The material in class was presented in a clear and concise manner on how it related to the course direction.\n",
      "* The PowerPoints, the examples done in class, some of the homework, and review sessions for tests.\n",
      "\n",
      "```\n",
      "\n",
      "**What factors about your own performance helped you learn the most? What did you do to facilitate your learning?**\n",
      "\n",
      "```{toggle}\n",
      "* Going to class, forcing yourself to focus and take notes. It's almost impossible not to kindof understand the material after fully listening to it. I probably would have done better if I went over the powerpoints again after class.\n",
      "* I did all homework and attended most lectures. I also did all practice tests and reviewed the material constantly. \n",
      "* I really tried to look over the chapter summaries and use all of my resources when it came to trying to do well in the course. Again redoing homework problems also helped alot. \n",
      "* Looking over practice problems and always coming to class helped me learn the best.\n",
      "* my interest in the subject\n",
      "* Paying attention in class and taking notes\n",
      "* Taking my time through the homework helped me the most.\n",
      "* The homework and the lab portion. \n",
      "\n",
      "```{toggle}\n"
     ]
    }
   ],
   "source": [
    "essay=pd.read_excel('../../../../Student-Opinion-Surveys/201720-PHYS112-20136-SOS.xlsx',sheet_name='Essay-Responses')\n",
    "\n",
    "QUESTIONS = [\n",
    "    'What changes, if any, could be made to the class that would have helped you to learn more? What could the instructor have done to make the course an even better learning experience?',\n",
    "    'What could you have done to make the course an even better learning experience?',\n",
    "    'What did you like most about the class and your instructor?',\n",
    "    'What factors about this class contributed the most to your learning? What aspects of this class helped you to learn to think critically?',\n",
    "    'What factors about your own performance helped you learn the most? What did you do to facilitate your learning?',\n",
    "]\n",
    "\n",
    "first_toggle=True\n",
    "for response in essay['Essay Questions:'].tolist():\n",
    "    if response in QUESTIONS:\n",
    "        if first_toggle:\n",
    "            first_toggle=False\n",
    "        else:\n",
    "            print('\\n```\\n')\n",
    "        print('**'+response+'**')\n",
    "        print('\\n```{toggle}')\n",
    "    else:\n",
    "        print('* '+response)\n",
    "    \n",
    "print('\\n```{toggle}')"
   ]
  },
  {
   "cell_type": "markdown",
   "id": "e791d945-fe20-4999-af43-0b67574db7c2",
   "metadata": {
    "tags": []
   },
   "source": [
    "**What changes, if any, could be made to the class that would have helped you to learn more? What could the instructor have done to make the course an even better learning experience?**\n",
    "\n",
    "```{toggle}\n",
    "* Honestly, I just wasn't interested in this course. I don't understand why I am required to take two semesters of physics. \n",
    "* I cant think of any changes to improve the course.\n",
    "* I would have reduced the confusion of some of the homework assignments. \n",
    "* made the homework more like the exams or the exams more like the homework. they aren't compatible with each other\n",
    "* Mastering physics is semi-effective at helping prepare for tests. I wish there was more guidance throughout the homework since sometimes it feels as if the homework is a test, and not practicing the steps of completing a physics problem. \n",
    "* More practice problems during lecture\n",
    "* SLOW DOWN, the instructor seemed to rush through alot of material so it was sometimes hard to follow along or understand because we moved at such a high speed. \n",
    "* Sometimes it was hard to follow along with really long examples on the chalk board.  Maybe organize these examples better, or find another medium to present them on.  Maybe chalk board isn't the best place to write out super long problems.\n",
    "* The instructor needs to take more time to explain the material & not rush through it. He's all over the place when teaching\n",
    "\n",
    "```\n",
    "\n",
    "**What could you have done to make the course an even better learning experience?**\n",
    "\n",
    "```{toggle}\n",
    "* allow students to create their own formula sheets or at least include units on the provided formula sheet\n",
    "* Gone over the powerpoints again after class and stayed ahead with the reading.\n",
    "* I could have actually studied. \n",
    "* I could have attended all of the classes, and taken more extensive notes.\n",
    "* I could have spend more time with the material and also utilized going to office hours for help. \n",
    "* I could have taken better notes during lecture\n",
    "* If I did practice problems in the textbook, I may have understood the content just a little better.\n",
    "* studied more\n",
    "* Studied more. \n",
    "\n",
    "```\n",
    "\n",
    "**What did you like most about the class and your instructor?**\n",
    "\n",
    "```{toggle}\n",
    "* He obviously loves the subject \n",
    "* He was enthusiastic and welcomed all questions\n",
    "* his involvement\n",
    "* How helpful the professor was if you needed it.\n",
    "* My instructor was very nice and approachable.  I was never scared to ask a question when I was confused.  My instructor also presents visual representations of the topics, such as using parallel and series circuits to show differences in light to the lightbulbs connected to the circuit.  Visual representations helped me better understand the topics.\n",
    "* The enthusiasm of the taught material. This professor was a step above others here as he explained physics with demonstrations and other real world applications. Lectures were interesting and informative. \n",
    "* The instructor was very engaging, with multiple demonstrations to help better understand the material.\n",
    "* The instructor was very enthusiastic about what he was teaching with alot of visual examples in lecture that helped me stay focused and interested during the class. \n",
    "\n",
    "```\n",
    "\n",
    "**What factors about this class contributed the most to your learning? What aspects of this class helped you to learn to think critically?**\n",
    "\n",
    "```{toggle}\n",
    "* Homework\n",
    "* its interesting\n",
    "* Taking detailed notes, doing all the homework, and reviewing lecture slides most helped me think critically and learn the material. \n",
    "* The demonstrations and workin problem after problem out in class\n",
    "* The homework's and tests required me to think critically.\n",
    "* The mastering physics homework, the examples helped with the tests and being able to connect concepts. \n",
    "* The material in class was presented in a clear and concise manner on how it related to the course direction.\n",
    "* The PowerPoints, the examples done in class, some of the homework, and review sessions for tests.\n",
    "\n",
    "```\n",
    "\n",
    "**What factors about your own performance helped you learn the most? What did you do to facilitate your learning?**\n",
    "\n",
    "```{toggle}\n",
    "* Going to class, forcing yourself to focus and take notes. It's almost impossible not to kindof understand the material after fully listening to it. I probably would have done better if I went over the powerpoints again after class.\n",
    "* I did all homework and attended most lectures. I also did all practice tests and reviewed the material constantly. \n",
    "* I really tried to look over the chapter summaries and use all of my resources when it came to trying to do well in the course. Again redoing homework problems also helped alot. \n",
    "* Looking over practice problems and always coming to class helped me learn the best.\n",
    "* my interest in the subject\n",
    "* Paying attention in class and taking notes\n",
    "* Taking my time through the homework helped me the most.\n",
    "* The homework and the lab portion. \n",
    "\n",
    "```{toggle}"
   ]
  },
  {
   "cell_type": "markdown",
   "id": "203a2af3-0f07-4c54-af15-4b8b0f78bbf6",
   "metadata": {},
   "source": [
    "## SOS for CRN 22895 (MWF Lectures)"
   ]
  },
  {
   "cell_type": "code",
   "execution_count": 40,
   "id": "b7e9a251-5a78-4cc6-b795-018ba326f4eb",
   "metadata": {
    "tags": [
     "remove-input",
     "remove-output"
    ]
   },
   "outputs": [
    {
     "name": "stdout",
     "output_type": "stream",
     "text": [
      "| Topic      |   -- | Questions                                                                                                                                                                   |   1 |   2 |   3 |   4 |   5 |   NA |   N |   NR |   Mean |   Instructor Mean |\n",
      "|:-----------|-----:|:----------------------------------------------------------------------------------------------------------------------------------------------------------------------------|----:|----:|----:|----:|----:|-----:|----:|-----:|-------:|------------------:|\n",
      "| Course     |    1 | The course materials, exams, projects and/or papers in this class required me to think critically.                                                                          |   0 |   0 |   1 |   2 |   4 |    0 |   7 |    0 |   4.43 |              4.02 |\n",
      "| Course     |    2 | In order to get good grades on tests and assignments, I had to know the course materials outlined in the syllabus and discussed in class.                                   |   0 |   0 |   0 |   2 |   5 |    0 |   7 |    0 |   4.71 |              4.26 |\n",
      "| Course     |    3 | Overall, I have learned or benefited from this class.                                                                                                                       |   0 |   0 |   1 |   0 |   6 |    0 |   7 |    0 |   4.71 |              3.73 |\n",
      "| Instructor |    4 | In the first week of class, the instructor provided documents and information that clearly explained the course content, assignments, grading and other important policies. |   0 |   0 |   0 |   1 |   6 |    0 |   7 |    0 |   4.86 |              4.28 |\n",
      "| Instructor |    5 | The instructor welcomed questions and other class participation.                                                                                                            |   0 |   0 |   0 |   1 |   6 |    0 |   7 |    0 |   4.86 |              4.45 |\n",
      "| Instructor |    6 | The instructor was enthusiastic with respect to the subject matter.                                                                                                         |   0 |   0 |   0 |   0 |   7 |    0 |   7 |    0 |   5    |              4.62 |\n",
      "| Instructor |    7 | The instructor was available for consultation and helpful.                                                                                                                  |   0 |   0 |   0 |   1 |   6 |    0 |   7 |    0 |   4.86 |              4.18 |\n",
      "| Instructor |    8 | The instructor used the full time period allotted for the class.                                                                                                            |   0 |   0 |   0 |   1 |   6 |    0 |   7 |    0 |   4.86 |              4.56 |\n",
      "| Instructor |    9 | The instructor's presentations were informative.                                                                                                                            |   0 |   0 |   1 |   1 |   5 |    0 |   7 |    0 |   4.57 |              4.09 |\n",
      "| Instructor |   10 | Overall, the instructor is an effective teacher.                                                                                                                            |   0 |   0 |   0 |   2 |   5 |    0 |   7 |    0 |   4.71 |              3.86 |\n"
     ]
    }
   ],
   "source": [
    "sos=pd.read_excel('../../../../Student-Opinion-Surveys/201720-PHYS112-22895-SOS.xlsx',sheet_name='sos')\n",
    "sosmdtable=sos.to_markdown(index=False)\n",
    "print(sosmdtable)"
   ]
  },
  {
   "cell_type": "markdown",
   "id": "58edafac-ed70-4e84-8a5e-762fc5ce6960",
   "metadata": {},
   "source": [
    "| Topic      |   -- | Questions                                                                                                                                                                   |   1 |   2 |   3 |   4 |   5 |   NA |   N |   NR |   Mean |   Instructor Mean |\n",
    "|:-----------|-----:|:----------------------------------------------------------------------------------------------------------------------------------------------------------------------------|----:|----:|----:|----:|----:|-----:|----:|-----:|-------:|------------------:|\n",
    "| Course     |    1 | The course materials, exams, projects and/or papers in this class required me to think critically.                                                                          |   0 |   0 |   1 |   2 |   4 |    0 |   7 |    0 |   4.43 |              4.02 |\n",
    "| Course     |    2 | In order to get good grades on tests and assignments, I had to know the course materials outlined in the syllabus and discussed in class.                                   |   0 |   0 |   0 |   2 |   5 |    0 |   7 |    0 |   4.71 |              4.26 |\n",
    "| Course     |    3 | Overall, I have learned or benefited from this class.                                                                                                                       |   0 |   0 |   1 |   0 |   6 |    0 |   7 |    0 |   4.71 |              3.73 |\n",
    "| Instructor |    4 | In the first week of class, the instructor provided documents and information that clearly explained the course content, assignments, grading and other important policies. |   0 |   0 |   0 |   1 |   6 |    0 |   7 |    0 |   4.86 |              4.28 |\n",
    "| Instructor |    5 | The instructor welcomed questions and other class participation.                                                                                                            |   0 |   0 |   0 |   1 |   6 |    0 |   7 |    0 |   4.86 |              4.45 |\n",
    "| Instructor |    6 | The instructor was enthusiastic with respect to the subject matter.                                                                                                         |   0 |   0 |   0 |   0 |   7 |    0 |   7 |    0 |   5    |              4.62 |\n",
    "| Instructor |    7 | The instructor was available for consultation and helpful.                                                                                                                  |   0 |   0 |   0 |   1 |   6 |    0 |   7 |    0 |   4.86 |              4.18 |\n",
    "| Instructor |    8 | The instructor used the full time period allotted for the class.                                                                                                            |   0 |   0 |   0 |   1 |   6 |    0 |   7 |    0 |   4.86 |              4.56 |\n",
    "| Instructor |    9 | The instructor's presentations were informative.                                                                                                                            |   0 |   0 |   1 |   1 |   5 |    0 |   7 |    0 |   4.57 |              4.09 |\n",
    "| Instructor |   10 | Overall, the instructor is an effective teacher.                                                                                                                            |   0 |   0 |   0 |   2 |   5 |    0 |   7 |    0 |   4.71 |              3.86 |"
   ]
  },
  {
   "cell_type": "markdown",
   "id": "d4e2bd70-47d4-4ba0-a646-47553c20aa2a",
   "metadata": {},
   "source": [
    "### Essay Responses"
   ]
  },
  {
   "cell_type": "code",
   "execution_count": 52,
   "id": "2b1ffda7-c107-42dd-aa3e-0503d45e43e9",
   "metadata": {
    "tags": [
     "remove-input",
     "remove-output"
    ]
   },
   "outputs": [
    {
     "name": "stdout",
     "output_type": "stream",
     "text": [
      "**What changes, if any, could be made to the class that would have helped you to learn more? What could the instructor have done to make the course an even better learning experience?**\n",
      "\n",
      "```{toggle}\n",
      "* None\n",
      "* nothing\n",
      "* The equations to be more like the homework since some of the questions on the homework were a bit more challenging. Also Professor Nerem knows that some questions on the homework, answer wise were wrong but he was more than willing to help with the situation.\n",
      "\n",
      "```\n",
      "\n",
      "**What could you have done to make the course an even better learning experience?**\n",
      "\n",
      "```{toggle}\n",
      "* I could have done more of the homework and been more attentive.\n",
      "* I guess not despise the subject of physics.\n",
      "* None\n",
      "* Probably more attention to what he says and explains rather than just writing lots of notes.\n",
      "\n",
      "```\n",
      "\n",
      "**What did you like most about the class and your instructor?**\n",
      "\n",
      "```{toggle}\n",
      "* I like my instructor be because he took the time to help me learn the material. he had demos to actually show the concepts of what we would be learning.  Physics on the other hand isn't my thing so I am not too fond of the class it self.\n",
      "* I liked that he was helpful in and out of lecture.\n",
      "* My professor was enthusiastic about teaching physics.\n",
      "* Professor Nerem is very enthusiastic about physics and gives many examples and demonstrations so that we understand the practical applications.\n",
      "\n",
      "```\n",
      "\n",
      "**What factors about this class contributed the most to your learning? What aspects of this class helped you to learn to think critically?**\n",
      "\n",
      "```{toggle}\n",
      "* The clicker questions\n",
      "* The equations done in class helped the most.\n",
      "* The homework and in-class reviews helped practice the content.\n",
      "* the homework and test contributed to me learning the most and helped me to think critically.\n",
      "\n",
      "```\n",
      "\n",
      "**What factors about your own performance helped you learn the most? What did you do to facilitate your learning?**\n",
      "\n",
      "```{toggle}\n",
      "* I did most of the homework and followed along in class.\n",
      "* the help center and my professors offices hours\n",
      "* The masteringphysics homework made me critically think about the topics we learned in lecture.\n",
      "\n",
      "```{toggle}\n"
     ]
    }
   ],
   "source": [
    "essay=pd.read_excel('../../../../Student-Opinion-Surveys/201720-PHYS112-22895-SOS.xlsx',sheet_name='Essay-Responses')\n",
    "\n",
    "QUESTIONS = [\n",
    "    'What changes, if any, could be made to the class that would have helped you to learn more? What could the instructor have done to make the course an even better learning experience?',\n",
    "    'What could you have done to make the course an even better learning experience?',\n",
    "    'What did you like most about the class and your instructor?',\n",
    "    'What factors about this class contributed the most to your learning? What aspects of this class helped you to learn to think critically?',\n",
    "    'What factors about your own performance helped you learn the most? What did you do to facilitate your learning?',\n",
    "]\n",
    "\n",
    "first_toggle=True\n",
    "for response in essay['Essay Questions:'].tolist():\n",
    "    if response in QUESTIONS:\n",
    "        if first_toggle:\n",
    "            first_toggle=False\n",
    "        else:\n",
    "            print('\\n```\\n')\n",
    "        print('**'+response+'**')\n",
    "        print('\\n```{toggle}')\n",
    "    else:\n",
    "        print('* '+response)\n",
    "    \n",
    "print('\\n```{toggle}')"
   ]
  },
  {
   "cell_type": "markdown",
   "id": "75d34859-f2ac-4900-9892-c70a25f9db11",
   "metadata": {},
   "source": [
    "**What changes, if any, could be made to the class that would have helped you to learn more? What could the instructor have done to make the course an even better learning experience?**\n",
    "\n",
    "```{toggle}\n",
    "* None\n",
    "* nothing\n",
    "* The equations to be more like the homework since some of the questions on the homework were a bit more challenging. Also Professor Nerem knows that some questions on the homework, answer wise were wrong but he was more than willing to help with the situation.\n",
    "\n",
    "```\n",
    "\n",
    "**What could you have done to make the course an even better learning experience?**\n",
    "\n",
    "```{toggle}\n",
    "* I could have done more of the homework and been more attentive.\n",
    "* I guess not despise the subject of physics.\n",
    "* None\n",
    "* Probably more attention to what he says and explains rather than just writing lots of notes.\n",
    "\n",
    "```\n",
    "\n",
    "**What did you like most about the class and your instructor?**\n",
    "\n",
    "```{toggle}\n",
    "* I like my instructor be because he took the time to help me learn the material. he had demos to actually show the concepts of what we would be learning.  Physics on the other hand isn't my thing so I am not too fond of the class it self.\n",
    "* I liked that he was helpful in and out of lecture.\n",
    "* My professor was enthusiastic about teaching physics.\n",
    "* Professor Nerem is very enthusiastic about physics and gives many examples and demonstrations so that we understand the practical applications.\n",
    "\n",
    "```\n",
    "\n",
    "**What factors about this class contributed the most to your learning? What aspects of this class helped you to learn to think critically?**\n",
    "\n",
    "```{toggle}\n",
    "* The clicker questions\n",
    "* The equations done in class helped the most.\n",
    "* The homework and in-class reviews helped practice the content.\n",
    "* the homework and test contributed to me learning the most and helped me to think critically.\n",
    "\n",
    "```\n",
    "\n",
    "**What factors about your own performance helped you learn the most? What did you do to facilitate your learning?**\n",
    "\n",
    "```{toggle}\n",
    "* I did most of the homework and followed along in class.\n",
    "* the help center and my professors offices hours\n",
    "* The masteringphysics homework made me critically think about the topics we learned in lecture.\n",
    "\n",
    "```{toggle}"
   ]
  }
 ],
 "metadata": {
  "kernelspec": {
   "display_name": "Python 3",
   "language": "python",
   "name": "python3"
  },
  "language_info": {
   "codemirror_mode": {
    "name": "ipython",
    "version": 3
   },
   "file_extension": ".py",
   "mimetype": "text/x-python",
   "name": "python",
   "nbconvert_exporter": "python",
   "pygments_lexer": "ipython3",
   "version": "3.6.9"
  }
 },
 "nbformat": 4,
 "nbformat_minor": 5
}
