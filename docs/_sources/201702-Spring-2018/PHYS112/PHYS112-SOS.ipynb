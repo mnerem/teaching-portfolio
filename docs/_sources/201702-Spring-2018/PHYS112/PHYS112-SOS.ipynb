{
 "cells": [
  {
   "cell_type": "markdown",
   "id": "a2084bcc-e538-41da-8031-8cb42e36f9a5",
   "metadata": {},
   "source": [
    "(2018-Spring-PHYS112-SOS)=\n",
    "# Student Opinion Surveys\n",
    "\n",
    "# PHYS112 (2018-Spring)"
   ]
  },
  {
   "cell_type": "markdown",
   "id": "b39c156d-f3da-40cd-9c0b-a3a51059b916",
   "metadata": {},
   "source": [
    "## SOS for CRN 20136 (TR Lectures)"
   ]
  },
  {
   "cell_type": "code",
   "execution_count": 20,
   "id": "34d1a09a-120b-4886-8d97-8630aef0a263",
   "metadata": {
    "tags": [
     "remove-input",
     "remove-output"
    ]
   },
   "outputs": [
    {
     "name": "stdout",
     "output_type": "stream",
     "text": [
      "| Topic      |   -- | Questions                                                                                                                                                                   |   1 |   2 |   3 |   4 |   5 |   NA |   N |   NR |   Mean |   Instructor Mean |\n",
      "|:-----------|-----:|:----------------------------------------------------------------------------------------------------------------------------------------------------------------------------|----:|----:|----:|----:|----:|-----:|----:|-----:|-------:|------------------:|\n",
      "| Course     |    1 | The course materials, exams, projects and/or papers in this class required me to think critically.                                                                          |   1 |   1 |   0 |   6 |   9 |    0 |  17 |    0 |   4.24 |              4.02 |\n",
      "| Course     |    2 | In order to get good grades on tests and assignments, I had to know the course materials outlined in the syllabus and discussed in class.                                   |   1 |   1 |   0 |   4 |  11 |    0 |  17 |    0 |   4.35 |              4.26 |\n",
      "| Course     |    3 | Overall, I have learned or benefited from this class.                                                                                                                       |   2 |   4 |   0 |   5 |   6 |    0 |  17 |    0 |   3.53 |              3.73 |\n",
      "| Instructor |    4 | In the first week of class, the instructor provided documents and information that clearly explained the course content, assignments, grading and other important policies. |   0 |   1 |   1 |   9 |   6 |    0 |  17 |    0 |   4.18 |              4.28 |\n",
      "| Instructor |    5 | The instructor welcomed questions and other class participation.                                                                                                            |   1 |   0 |   1 |   7 |   8 |    0 |  17 |    0 |   4.24 |              4.45 |\n",
      "| Instructor |    6 | The instructor was enthusiastic with respect to the subject matter.                                                                                                         |   0 |   0 |   0 |   5 |  12 |    0 |  17 |    0 |   4.71 |              4.62 |\n",
      "| Instructor |    7 | The instructor was available for consultation and helpful.                                                                                                                  |   0 |   0 |   1 |   8 |   7 |    1 |  17 |    0 |   4.38 |              4.18 |\n",
      "| Instructor |    8 | The instructor used the full time period allotted for the class.                                                                                                            |   0 |   0 |   0 |   7 |  10 |    0 |  17 |    0 |   4.59 |              4.56 |\n",
      "| Instructor |    9 | The instructor's presentations were informative.                                                                                                                            |   0 |   1 |   3 |   7 |   6 |    0 |  17 |    0 |   4.06 |              4.09 |\n",
      "| Instructor |   10 | Overall, the instructor is an effective teacher.                                                                                                                            |   0 |   2 |   3 |   7 |   5 |    0 |  17 |    0 |   3.88 |              3.86 |\n"
     ]
    }
   ],
   "source": [
    "import pandas as pd\n",
    "sos=pd.read_excel('../../../../Student-Opinion-Surveys/201720-PHYS112-20136-SOS.xlsx',sheet_name='sos')\n",
    "sosmdtable=sos.to_markdown(index=False)\n",
    "print(sosmdtable)"
   ]
  },
  {
   "cell_type": "markdown",
   "id": "0d3f4b0b-e715-487e-be9e-41cce7b6a5a3",
   "metadata": {},
   "source": [
    "| Topic      |   -- | Questions                                                                                                                                                                   |   1 |   2 |   3 |   4 |   5 |   NA |   N |   NR |   Mean |   Instructor Mean |\n",
    "|:-----------|-----:|:----------------------------------------------------------------------------------------------------------------------------------------------------------------------------|----:|----:|----:|----:|----:|-----:|----:|-----:|-------:|------------------:|\n",
    "| Course     |    1 | The course materials, exams, projects and/or papers in this class required me to think critically.                                                                          |   1 |   1 |   0 |   6 |   9 |    0 |  17 |    0 |   4.24 |              4.02 |\n",
    "| Course     |    2 | In order to get good grades on tests and assignments, I had to know the course materials outlined in the syllabus and discussed in class.                                   |   1 |   1 |   0 |   4 |  11 |    0 |  17 |    0 |   4.35 |              4.26 |\n",
    "| Course     |    3 | Overall, I have learned or benefited from this class.                                                                                                                       |   2 |   4 |   0 |   5 |   6 |    0 |  17 |    0 |   3.53 |              3.73 |\n",
    "| Instructor |    4 | In the first week of class, the instructor provided documents and information that clearly explained the course content, assignments, grading and other important policies. |   0 |   1 |   1 |   9 |   6 |    0 |  17 |    0 |   4.18 |              4.28 |\n",
    "| Instructor |    5 | The instructor welcomed questions and other class participation.                                                                                                            |   1 |   0 |   1 |   7 |   8 |    0 |  17 |    0 |   4.24 |              4.45 |\n",
    "| Instructor |    6 | The instructor was enthusiastic with respect to the subject matter.                                                                                                         |   0 |   0 |   0 |   5 |  12 |    0 |  17 |    0 |   4.71 |              4.62 |\n",
    "| Instructor |    7 | The instructor was available for consultation and helpful.                                                                                                                  |   0 |   0 |   1 |   8 |   7 |    1 |  17 |    0 |   4.38 |              4.18 |\n",
    "| Instructor |    8 | The instructor used the full time period allotted for the class.                                                                                                            |   0 |   0 |   0 |   7 |  10 |    0 |  17 |    0 |   4.59 |              4.56 |\n",
    "| Instructor |    9 | The instructor's presentations were informative.                                                                                                                            |   0 |   1 |   3 |   7 |   6 |    0 |  17 |    0 |   4.06 |              4.09 |\n",
    "| Instructor |   10 | Overall, the instructor is an effective teacher.                                                                                                                            |   0 |   2 |   3 |   7 |   5 |    0 |  17 |    0 |   3.88 |              3.86 |"
   ]
  },
  {
   "cell_type": "markdown",
   "id": "2eff4bbf-5af2-45c5-8e84-400de4560086",
   "metadata": {},
   "source": [
    "### Demographics Data"
   ]
  },
  {
   "cell_type": "markdown",
   "id": "f5dc566b-0d02-4904-bbfa-7fec6cc5f4a0",
   "metadata": {},
   "source": [
    "<table style=\"border-collapse:collapse;\" class=\"tb\" cellpadding=\"0\" dir=\"ltr\"><tbody><tr><td style=\"padding-right:30px;padding-top:10px;vertical-align:top;\"><table style=\"border:1pt solid #000000;border-collapse:collapse;\" class=\"ls\" lid=\"List2_NS_\" cellpadding=\"0\" dir=\"ltr\"><tbody><tr><td style=\"font-weight:bold\" class=\"c_NS_155 lc\" rowspan=\"3\" cid=\"0\" uid=\"155\" name=\"c_NS_155\" type=\"datavalue\"><span tabindex=\"0\" ctx=\"80\">Age</span></td><td class=\"c_NS_157 lc\" cid=\"1\" uid=\"157\" name=\"c_NS_157\" type=\"datavalue\"><span tabindex=\"-1\" ctx=\"81:80:82\">20 &amp; Under</span></td><td class=\"c_NS_159 lc\" cid=\"2\" uid=\"159\" name=\"c_NS_159\" type=\"datavalue\"><span tabindex=\"-1\" style=\"visibility:hidden;color:white;\">-</span><span tabindex=\"-1\" ctx=\"82:80:81\">4</span></td></tr><tr><td class=\"c_NS_157 lc\" cid=\"1\" uid=\"157\" name=\"c_NS_157\" type=\"datavalue\"><span tabindex=\"-1\" ctx=\"83:80:84\">21 - 25</span></td><td class=\"c_NS_159 lc\" cid=\"2\" uid=\"159\" name=\"c_NS_159\" type=\"datavalue\"><span tabindex=\"-1\" style=\"visibility:hidden;color:white;\">-</span><span tabindex=\"-1\" ctx=\"84:80:83\">11</span></td></tr><tr><td class=\"c_NS_157 lc\" cid=\"1\" uid=\"157\" name=\"c_NS_157\" type=\"datavalue\"><span tabindex=\"-1\" ctx=\"85:80:86\">26 +&nbsp;</span></td><td class=\"c_NS_159 lc\" cid=\"2\" uid=\"159\" name=\"c_NS_159\" type=\"datavalue\"><span tabindex=\"-1\" style=\"visibility:hidden;color:white;\">-</span><span tabindex=\"-1\" ctx=\"86:80:85\">3</span></td></tr><tr><td style=\"font-weight:bold\" class=\"c_NS_155 lc\" rowspan=\"3\" cid=\"0\" uid=\"155\" name=\"c_NS_155\" type=\"datavalue\"><span tabindex=\"-1\" ctx=\"87\">Class Standing</span></td><td class=\"c_NS_157 lc\" cid=\"1\" uid=\"157\" name=\"c_NS_157\" type=\"datavalue\"><span tabindex=\"-1\" ctx=\"88:87:89\">Junior</span></td><td class=\"c_NS_159 lc\" cid=\"2\" uid=\"159\" name=\"c_NS_159\" type=\"datavalue\"><span tabindex=\"-1\" style=\"visibility:hidden;color:white;\">-</span><span tabindex=\"-1\" ctx=\"89:87:88\">5</span></td></tr><tr><td class=\"c_NS_157 lc\" cid=\"1\" uid=\"157\" name=\"c_NS_157\" type=\"datavalue\"><span tabindex=\"-1\" ctx=\"90:87:91\">Senior</span></td><td class=\"c_NS_159 lc\" cid=\"2\" uid=\"159\" name=\"c_NS_159\" type=\"datavalue\"><span tabindex=\"-1\" style=\"visibility:hidden;color:white;\">-</span><span tabindex=\"-1\" ctx=\"91:87:90\">9</span></td></tr><tr><td class=\"c_NS_157 lc\" cid=\"1\" uid=\"157\" name=\"c_NS_157\" type=\"datavalue\"><span tabindex=\"-1\" ctx=\"92:87:82\">Sophomore</span></td><td class=\"c_NS_159 lc\" cid=\"2\" uid=\"159\" name=\"c_NS_159\" type=\"datavalue\"><span tabindex=\"-1\" style=\"visibility:hidden;color:white;\">-</span><span tabindex=\"-1\" ctx=\"82:87:92\">4</span></td></tr><tr><td style=\"font-weight:bold\" class=\"c_NS_155 lc\" rowspan=\"2\" cid=\"0\" uid=\"155\" name=\"c_NS_155\" type=\"datavalue\"><span tabindex=\"-1\" ctx=\"93\">Full or Part Time Student</span></td><td class=\"c_NS_157 lc\" cid=\"1\" uid=\"157\" name=\"c_NS_157\" type=\"datavalue\"><span tabindex=\"-1\" ctx=\"94:93:95\">Full-time</span></td><td class=\"c_NS_159 lc\" cid=\"2\" uid=\"159\" name=\"c_NS_159\" type=\"datavalue\"><span tabindex=\"-1\" style=\"visibility:hidden;color:white;\">-</span><span tabindex=\"-1\" ctx=\"95:93:94\">15</span></td></tr><tr><td class=\"c_NS_157 lc\" cid=\"1\" uid=\"157\" name=\"c_NS_157\" type=\"datavalue\"><span tabindex=\"-1\" ctx=\"96:93:86\">Part-time</span></td><td class=\"c_NS_159 lc\" cid=\"2\" uid=\"159\" name=\"c_NS_159\" type=\"datavalue\"><span tabindex=\"-1\" style=\"visibility:hidden;color:white;\">-</span><span tabindex=\"-1\" ctx=\"86:93:96\">3</span></td></tr><tr><td style=\"font-weight:bold\" class=\"c_NS_155 lc\" rowspan=\"2\" cid=\"0\" uid=\"155\" name=\"c_NS_155\" type=\"datavalue\"><span tabindex=\"-1\" ctx=\"97\">Gender</span></td><td class=\"c_NS_157 lc\" cid=\"1\" uid=\"157\" name=\"c_NS_157\" type=\"datavalue\"><span tabindex=\"-1\" ctx=\"98:97:99\">Female</span></td><td class=\"c_NS_159 lc\" cid=\"2\" uid=\"159\" name=\"c_NS_159\" type=\"datavalue\"><span tabindex=\"-1\" style=\"visibility:hidden;color:white;\">-</span><span tabindex=\"-1\" ctx=\"99:97:98\">8</span></td></tr><tr><td class=\"c_NS_157 lc\" cid=\"1\" uid=\"157\" name=\"c_NS_157\" type=\"datavalue\"><span tabindex=\"-1\" ctx=\"100:97:101\">Male</span></td><td class=\"c_NS_159 lc\" cid=\"2\" uid=\"159\" name=\"c_NS_159\" type=\"datavalue\"><span tabindex=\"-1\" style=\"visibility:hidden;color:white;\">-</span><span tabindex=\"-1\" ctx=\"101:97:100\">10</span></td></tr><tr><td style=\"font-weight:bold\" class=\"c_NS_155 lc\" rowspan=\"4\" cid=\"0\" uid=\"155\" name=\"c_NS_155\" type=\"datavalue\"><span tabindex=\"-1\" ctx=\"102\">Present GPA</span></td><td class=\"c_NS_157 lc\" cid=\"1\" uid=\"157\" name=\"c_NS_157\" type=\"datavalue\"><span tabindex=\"-1\" ctx=\"103:102:82\">2.00 To 2.49</span></td><td class=\"c_NS_159 lc\" cid=\"2\" uid=\"159\" name=\"c_NS_159\" type=\"datavalue\"><span tabindex=\"-1\" style=\"visibility:hidden;color:white;\">-</span><span tabindex=\"-1\" ctx=\"82:102:103\">4</span></td></tr><tr><td class=\"c_NS_157 lc\" cid=\"1\" uid=\"157\" name=\"c_NS_157\" type=\"datavalue\"><span tabindex=\"-1\" ctx=\"104:102:86\">2.50 To 2.99</span></td><td class=\"c_NS_159 lc\" cid=\"2\" uid=\"159\" name=\"c_NS_159\" type=\"datavalue\"><span tabindex=\"-1\" style=\"visibility:hidden;color:white;\">-</span><span tabindex=\"-1\" ctx=\"86:102:104\">3</span></td></tr><tr><td class=\"c_NS_157 lc\" cid=\"1\" uid=\"157\" name=\"c_NS_157\" type=\"datavalue\"><span tabindex=\"-1\" ctx=\"105:102:106\">3.00 To 3.49</span></td><td class=\"c_NS_159 lc\" cid=\"2\" uid=\"159\" name=\"c_NS_159\" type=\"datavalue\"><span tabindex=\"-1\" style=\"visibility:hidden;color:white;\">-</span><span tabindex=\"-1\" ctx=\"106:102:105\">7</span></td></tr><tr><td class=\"c_NS_157 lc\" cid=\"1\" uid=\"157\" name=\"c_NS_157\" type=\"datavalue\"><span tabindex=\"-1\" ctx=\"107:102:82\">3.50 +&nbsp;</span></td><td class=\"c_NS_159 lc\" cid=\"2\" uid=\"159\" name=\"c_NS_159\" type=\"datavalue\"><span tabindex=\"-1\" style=\"visibility:hidden;color:white;\">-</span><span tabindex=\"-1\" ctx=\"82:102:107\">4</span></td></tr></tbody></table></td><td style=\"padding-top:10px;vertical-align:top;\"><table style=\"border:1pt solid #000000;border-collapse:collapse;\" class=\"ls\" lid=\"List3_NS_\" cellpadding=\"0\" dir=\"ltr\"><tbody><tr><td style=\"font-weight:bold\" class=\"c_NS_171 lc\" rowspan=\"3\" cid=\"0\" uid=\"171\" name=\"c_NS_171\" type=\"datavalue\"><span tabindex=\"0\" ctx=\"108\">Employed While Taking Course</span></td><td class=\"c_NS_173 lc\" cid=\"1\" uid=\"173\" name=\"c_NS_173\" type=\"datavalue\"><span tabindex=\"-1\" ctx=\"109:108:110\">Full-time job</span></td><td class=\"c_NS_175 lc\" cid=\"2\" uid=\"175\" name=\"c_NS_175\" type=\"datavalue\"><span tabindex=\"-1\" style=\"visibility:hidden;color:white;\">-</span><span tabindex=\"-1\" ctx=\"110:108:109\">1</span></td></tr><tr><td class=\"c_NS_173 lc\" cid=\"1\" uid=\"173\" name=\"c_NS_173\" type=\"datavalue\"><span tabindex=\"-1\" ctx=\"111:108:112\">Not employed</span></td><td class=\"c_NS_175 lc\" cid=\"2\" uid=\"175\" name=\"c_NS_175\" type=\"datavalue\"><span tabindex=\"-1\" style=\"visibility:hidden;color:white;\">-</span><span tabindex=\"-1\" ctx=\"112:108:111\">2</span></td></tr><tr><td class=\"c_NS_173 lc\" cid=\"1\" uid=\"173\" name=\"c_NS_173\" type=\"datavalue\"><span tabindex=\"-1\" ctx=\"113:108:114\">Part-time job</span></td><td class=\"c_NS_175 lc\" cid=\"2\" uid=\"175\" name=\"c_NS_175\" type=\"datavalue\"><span tabindex=\"-1\" style=\"visibility:hidden;color:white;\">-</span><span tabindex=\"-1\" ctx=\"114:108:113\">13</span></td></tr><tr><td style=\"font-weight:bold\" class=\"c_NS_171 lc\" rowspan=\"3\" cid=\"0\" uid=\"171\" name=\"c_NS_171\" type=\"datavalue\"><span tabindex=\"-1\" ctx=\"115\">Expected Course Grade</span></td><td class=\"c_NS_173 lc\" cid=\"1\" uid=\"173\" name=\"c_NS_173\" type=\"datavalue\"><span tabindex=\"-1\" ctx=\"116:115:117\">A</span></td><td class=\"c_NS_175 lc\" cid=\"2\" uid=\"175\" name=\"c_NS_175\" type=\"datavalue\"><span tabindex=\"-1\" style=\"visibility:hidden;color:white;\">-</span><span tabindex=\"-1\" ctx=\"117:115:116\">3</span></td></tr><tr><td class=\"c_NS_173 lc\" cid=\"1\" uid=\"173\" name=\"c_NS_173\" type=\"datavalue\"><span tabindex=\"-1\" ctx=\"118:115:119\">B</span></td><td class=\"c_NS_175 lc\" cid=\"2\" uid=\"175\" name=\"c_NS_175\" type=\"datavalue\"><span tabindex=\"-1\" style=\"visibility:hidden;color:white;\">-</span><span tabindex=\"-1\" ctx=\"119:115:118\">5</span></td></tr><tr><td class=\"c_NS_173 lc\" cid=\"1\" uid=\"173\" name=\"c_NS_173\" type=\"datavalue\"><span tabindex=\"-1\" ctx=\"120:115:121\">C</span></td><td class=\"c_NS_175 lc\" cid=\"2\" uid=\"175\" name=\"c_NS_175\" type=\"datavalue\"><span tabindex=\"-1\" style=\"visibility:hidden;color:white;\">-</span><span tabindex=\"-1\" ctx=\"121:115:120\">9</span></td></tr><tr><td style=\"font-weight:bold\" class=\"c_NS_171 lc\" rowspan=\"4\" cid=\"0\" uid=\"171\" name=\"c_NS_171\" type=\"datavalue\"><span tabindex=\"-1\" ctx=\"122\">Hours Per Week Spent Preparing for Class</span></td><td class=\"c_NS_173 lc\" cid=\"1\" uid=\"173\" name=\"c_NS_173\" type=\"datavalue\"><span tabindex=\"-1\" ctx=\"123:122:117\">0 to 2</span></td><td class=\"c_NS_175 lc\" cid=\"2\" uid=\"175\" name=\"c_NS_175\" type=\"datavalue\"><span tabindex=\"-1\" style=\"visibility:hidden;color:white;\">-</span><span tabindex=\"-1\" ctx=\"117:122:123\">3</span></td></tr><tr><td class=\"c_NS_173 lc\" cid=\"1\" uid=\"173\" name=\"c_NS_173\" type=\"datavalue\"><span tabindex=\"-1\" ctx=\"124:122:125\">3 to 5</span></td><td class=\"c_NS_175 lc\" cid=\"2\" uid=\"175\" name=\"c_NS_175\" type=\"datavalue\"><span tabindex=\"-1\" style=\"visibility:hidden;color:white;\">-</span><span tabindex=\"-1\" ctx=\"125:122:124\">8</span></td></tr><tr><td class=\"c_NS_173 lc\" cid=\"1\" uid=\"173\" name=\"c_NS_173\" type=\"datavalue\"><span tabindex=\"-1\" ctx=\"126:122:119\">6 to 8</span></td><td class=\"c_NS_175 lc\" cid=\"2\" uid=\"175\" name=\"c_NS_175\" type=\"datavalue\"><span tabindex=\"-1\" style=\"visibility:hidden;color:white;\">-</span><span tabindex=\"-1\" ctx=\"119:122:126\">5</span></td></tr><tr><td class=\"c_NS_173 lc\" cid=\"1\" uid=\"173\" name=\"c_NS_173\" type=\"datavalue\"><span tabindex=\"-1\" ctx=\"127:122:110\">9 to 11</span></td><td class=\"c_NS_175 lc\" cid=\"2\" uid=\"175\" name=\"c_NS_175\" type=\"datavalue\"><span tabindex=\"-1\" style=\"visibility:hidden;color:white;\">-</span><span tabindex=\"-1\" ctx=\"110:122:127\">1</span></td></tr><tr><td style=\"font-weight:bold\" class=\"c_NS_171 lc\" rowspan=\"3\" cid=\"0\" uid=\"171\" name=\"c_NS_171\" type=\"datavalue\"><span tabindex=\"-1\" ctx=\"128\">I Attended Class</span></td><td class=\"c_NS_173 lc\" cid=\"1\" uid=\"173\" name=\"c_NS_173\" type=\"datavalue\"><span tabindex=\"-1\" ctx=\"129:128:130\">All</span></td><td class=\"c_NS_175 lc\" cid=\"2\" uid=\"175\" name=\"c_NS_175\" type=\"datavalue\"><span tabindex=\"-1\" style=\"visibility:hidden;color:white;\">-</span><span tabindex=\"-1\" ctx=\"130:128:129\">6</span></td></tr><tr><td class=\"c_NS_173 lc\" cid=\"1\" uid=\"173\" name=\"c_NS_173\" type=\"datavalue\"><span tabindex=\"-1\" ctx=\"131:128:112\">Few</span></td><td class=\"c_NS_175 lc\" cid=\"2\" uid=\"175\" name=\"c_NS_175\" type=\"datavalue\"><span tabindex=\"-1\" style=\"visibility:hidden;color:white;\">-</span><span tabindex=\"-1\" ctx=\"112:128:131\">2</span></td></tr><tr><td class=\"c_NS_173 lc\" cid=\"1\" uid=\"173\" name=\"c_NS_173\" type=\"datavalue\"><span tabindex=\"-1\" ctx=\"132:128:121\">Most</span></td><td class=\"c_NS_175 lc\" cid=\"2\" uid=\"175\" name=\"c_NS_175\" type=\"datavalue\"><span tabindex=\"-1\" style=\"visibility:hidden;color:white;\">-</span><span tabindex=\"-1\" ctx=\"121:128:132\">9</span></td></tr><tr><td style=\"font-weight:bold\" class=\"c_NS_171 lc\" rowspan=\"3\" cid=\"0\" uid=\"171\" name=\"c_NS_171\" type=\"datavalue\"><span tabindex=\"-1\" ctx=\"133\">Reason for Taking Course</span></td><td class=\"c_NS_173 lc\" cid=\"1\" uid=\"173\" name=\"c_NS_173\" type=\"datavalue\"><span tabindex=\"-1\" ctx=\"134:133:110\">Elective</span></td><td class=\"c_NS_175 lc\" cid=\"2\" uid=\"175\" name=\"c_NS_175\" type=\"datavalue\"><span tabindex=\"-1\" style=\"visibility:hidden;color:white;\">-</span><span tabindex=\"-1\" ctx=\"110:133:134\">1</span></td></tr><tr><td class=\"c_NS_173 lc\" cid=\"1\" uid=\"173\" name=\"c_NS_173\" type=\"datavalue\"><span tabindex=\"-1\" ctx=\"135:133:117\">Gen. Ed requirement</span></td><td class=\"c_NS_175 lc\" cid=\"2\" uid=\"175\" name=\"c_NS_175\" type=\"datavalue\"><span tabindex=\"-1\" style=\"visibility:hidden;color:white;\">-</span><span tabindex=\"-1\" ctx=\"117:133:135\">3</span></td></tr><tr><td class=\"c_NS_173 lc\" cid=\"1\" uid=\"173\" name=\"c_NS_173\" type=\"datavalue\"><span tabindex=\"-1\" ctx=\"136:133:137\">Required for Major</span></td><td class=\"c_NS_175 lc\" cid=\"2\" uid=\"175\" name=\"c_NS_175\" type=\"datavalue\"><span tabindex=\"-1\" style=\"visibility:hidden;color:white;\">-</span><span tabindex=\"-1\" ctx=\"137:133:136\">11</span></td></tr></tbody></table></td></tr></tbody></table>"
   ]
  },
  {
   "cell_type": "markdown",
   "id": "3c60b2e8-b601-4750-9f6f-a2411c20fb12",
   "metadata": {},
   "source": [
    "### Essay Responses"
   ]
  },
  {
   "cell_type": "code",
   "execution_count": 53,
   "id": "b7792432-7a82-4a67-8c67-51dc6bc87e83",
   "metadata": {
    "collapsed": true,
    "jupyter": {
     "outputs_hidden": true
    },
    "tags": [
     "remove-input",
     "remove-output"
    ]
   },
   "outputs": [
    {
     "name": "stdout",
     "output_type": "stream",
     "text": [
      "**What changes, if any, could be made to the class that would have helped you to learn more? What could the instructor have done to make the course an even better learning experience?**\n",
      "\n",
      "```{toggle}\n",
      "* Honestly, I just wasn't interested in this course. I don't understand why I am required to take two semesters of physics. \n",
      "* I cant think of any changes to improve the course.\n",
      "* I would have reduced the confusion of some of the homework assignments. \n",
      "* made the homework more like the exams or the exams more like the homework. they aren't compatible with each other\n",
      "* Mastering physics is semi-effective at helping prepare for tests. I wish there was more guidance throughout the homework since sometimes it feels as if the homework is a test, and not practicing the steps of completing a physics problem. \n",
      "* More practice problems during lecture\n",
      "* SLOW DOWN, the instructor seemed to rush through alot of material so it was sometimes hard to follow along or understand because we moved at such a high speed. \n",
      "* Sometimes it was hard to follow along with really long examples on the chalk board.  Maybe organize these examples better, or find another medium to present them on.  Maybe chalk board isn't the best place to write out super long problems.\n",
      "* The instructor needs to take more time to explain the material & not rush through it. He's all over the place when teaching\n",
      "\n",
      "```\n",
      "\n",
      "**What could you have done to make the course an even better learning experience?**\n",
      "\n",
      "```{toggle}\n",
      "* allow students to create their own formula sheets or at least include units on the provided formula sheet\n",
      "* Gone over the powerpoints again after class and stayed ahead with the reading.\n",
      "* I could have actually studied. \n",
      "* I could have attended all of the classes, and taken more extensive notes.\n",
      "* I could have spend more time with the material and also utilized going to office hours for help. \n",
      "* I could have taken better notes during lecture\n",
      "* If I did practice problems in the textbook, I may have understood the content just a little better.\n",
      "* studied more\n",
      "* Studied more. \n",
      "\n",
      "```\n",
      "\n",
      "**What did you like most about the class and your instructor?**\n",
      "\n",
      "```{toggle}\n",
      "* He obviously loves the subject \n",
      "* He was enthusiastic and welcomed all questions\n",
      "* his involvement\n",
      "* How helpful the professor was if you needed it.\n",
      "* My instructor was very nice and approachable.  I was never scared to ask a question when I was confused.  My instructor also presents visual representations of the topics, such as using parallel and series circuits to show differences in light to the lightbulbs connected to the circuit.  Visual representations helped me better understand the topics.\n",
      "* The enthusiasm of the taught material. This professor was a step above others here as he explained physics with demonstrations and other real world applications. Lectures were interesting and informative. \n",
      "* The instructor was very engaging, with multiple demonstrations to help better understand the material.\n",
      "* The instructor was very enthusiastic about what he was teaching with alot of visual examples in lecture that helped me stay focused and interested during the class. \n",
      "\n",
      "```\n",
      "\n",
      "**What factors about this class contributed the most to your learning? What aspects of this class helped you to learn to think critically?**\n",
      "\n",
      "```{toggle}\n",
      "* Homework\n",
      "* its interesting\n",
      "* Taking detailed notes, doing all the homework, and reviewing lecture slides most helped me think critically and learn the material. \n",
      "* The demonstrations and workin problem after problem out in class\n",
      "* The homework's and tests required me to think critically.\n",
      "* The mastering physics homework, the examples helped with the tests and being able to connect concepts. \n",
      "* The material in class was presented in a clear and concise manner on how it related to the course direction.\n",
      "* The PowerPoints, the examples done in class, some of the homework, and review sessions for tests.\n",
      "\n",
      "```\n",
      "\n",
      "**What factors about your own performance helped you learn the most? What did you do to facilitate your learning?**\n",
      "\n",
      "```{toggle}\n",
      "* Going to class, forcing yourself to focus and take notes. It's almost impossible not to kindof understand the material after fully listening to it. I probably would have done better if I went over the powerpoints again after class.\n",
      "* I did all homework and attended most lectures. I also did all practice tests and reviewed the material constantly. \n",
      "* I really tried to look over the chapter summaries and use all of my resources when it came to trying to do well in the course. Again redoing homework problems also helped alot. \n",
      "* Looking over practice problems and always coming to class helped me learn the best.\n",
      "* my interest in the subject\n",
      "* Paying attention in class and taking notes\n",
      "* Taking my time through the homework helped me the most.\n",
      "* The homework and the lab portion. \n",
      "\n",
      "```{toggle}\n"
     ]
    }
   ],
   "source": [
    "essay=pd.read_excel('../../../../Student-Opinion-Surveys/201720-PHYS112-20136-SOS.xlsx',sheet_name='Essay-Responses')\n",
    "\n",
    "QUESTIONS = [\n",
    "    'What changes, if any, could be made to the class that would have helped you to learn more? What could the instructor have done to make the course an even better learning experience?',\n",
    "    'What could you have done to make the course an even better learning experience?',\n",
    "    'What did you like most about the class and your instructor?',\n",
    "    'What factors about this class contributed the most to your learning? What aspects of this class helped you to learn to think critically?',\n",
    "    'What factors about your own performance helped you learn the most? What did you do to facilitate your learning?',\n",
    "]\n",
    "\n",
    "first_toggle=True\n",
    "for response in essay['Essay Questions:'].tolist():\n",
    "    if response in QUESTIONS:\n",
    "        if first_toggle:\n",
    "            first_toggle=False\n",
    "        else:\n",
    "            print('\\n```\\n')\n",
    "        print('**'+response+'**')\n",
    "        print('\\n```{toggle}')\n",
    "    else:\n",
    "        print('* '+response)\n",
    "    \n",
    "print('\\n```{toggle}')"
   ]
  },
  {
   "cell_type": "markdown",
   "id": "e791d945-fe20-4999-af43-0b67574db7c2",
   "metadata": {
    "tags": []
   },
   "source": [
    "**What changes, if any, could be made to the class that would have helped you to learn more? What could the instructor have done to make the course an even better learning experience?**\n",
    "\n",
    "```{toggle}\n",
    "* Honestly, I just wasn't interested in this course. I don't understand why I am required to take two semesters of physics. \n",
    "* I cant think of any changes to improve the course.\n",
    "* I would have reduced the confusion of some of the homework assignments. \n",
    "* made the homework more like the exams or the exams more like the homework. they aren't compatible with each other\n",
    "* Mastering physics is semi-effective at helping prepare for tests. I wish there was more guidance throughout the homework since sometimes it feels as if the homework is a test, and not practicing the steps of completing a physics problem. \n",
    "* More practice problems during lecture\n",
    "* SLOW DOWN, the instructor seemed to rush through alot of material so it was sometimes hard to follow along or understand because we moved at such a high speed. \n",
    "* Sometimes it was hard to follow along with really long examples on the chalk board.  Maybe organize these examples better, or find another medium to present them on.  Maybe chalk board isn't the best place to write out super long problems.\n",
    "* The instructor needs to take more time to explain the material & not rush through it. He's all over the place when teaching\n",
    "\n",
    "```\n",
    "\n",
    "**What could you have done to make the course an even better learning experience?**\n",
    "\n",
    "```{toggle}\n",
    "* allow students to create their own formula sheets or at least include units on the provided formula sheet\n",
    "* Gone over the powerpoints again after class and stayed ahead with the reading.\n",
    "* I could have actually studied. \n",
    "* I could have attended all of the classes, and taken more extensive notes.\n",
    "* I could have spend more time with the material and also utilized going to office hours for help. \n",
    "* I could have taken better notes during lecture\n",
    "* If I did practice problems in the textbook, I may have understood the content just a little better.\n",
    "* studied more\n",
    "* Studied more. \n",
    "\n",
    "```\n",
    "\n",
    "**What did you like most about the class and your instructor?**\n",
    "\n",
    "```{toggle}\n",
    "* He obviously loves the subject \n",
    "* He was enthusiastic and welcomed all questions\n",
    "* his involvement\n",
    "* How helpful the professor was if you needed it.\n",
    "* My instructor was very nice and approachable.  I was never scared to ask a question when I was confused.  My instructor also presents visual representations of the topics, such as using parallel and series circuits to show differences in light to the lightbulbs connected to the circuit.  Visual representations helped me better understand the topics.\n",
    "* The enthusiasm of the taught material. This professor was a step above others here as he explained physics with demonstrations and other real world applications. Lectures were interesting and informative. \n",
    "* The instructor was very engaging, with multiple demonstrations to help better understand the material.\n",
    "* The instructor was very enthusiastic about what he was teaching with alot of visual examples in lecture that helped me stay focused and interested during the class. \n",
    "\n",
    "```\n",
    "\n",
    "**What factors about this class contributed the most to your learning? What aspects of this class helped you to learn to think critically?**\n",
    "\n",
    "```{toggle}\n",
    "* Homework\n",
    "* its interesting\n",
    "* Taking detailed notes, doing all the homework, and reviewing lecture slides most helped me think critically and learn the material. \n",
    "* The demonstrations and workin problem after problem out in class\n",
    "* The homework's and tests required me to think critically.\n",
    "* The mastering physics homework, the examples helped with the tests and being able to connect concepts. \n",
    "* The material in class was presented in a clear and concise manner on how it related to the course direction.\n",
    "* The PowerPoints, the examples done in class, some of the homework, and review sessions for tests.\n",
    "\n",
    "```\n",
    "\n",
    "**What factors about your own performance helped you learn the most? What did you do to facilitate your learning?**\n",
    "\n",
    "```{toggle}\n",
    "* Going to class, forcing yourself to focus and take notes. It's almost impossible not to kindof understand the material after fully listening to it. I probably would have done better if I went over the powerpoints again after class.\n",
    "* I did all homework and attended most lectures. I also did all practice tests and reviewed the material constantly. \n",
    "* I really tried to look over the chapter summaries and use all of my resources when it came to trying to do well in the course. Again redoing homework problems also helped alot. \n",
    "* Looking over practice problems and always coming to class helped me learn the best.\n",
    "* my interest in the subject\n",
    "* Paying attention in class and taking notes\n",
    "* Taking my time through the homework helped me the most.\n",
    "* The homework and the lab portion. \n",
    "\n",
    "```{toggle}"
   ]
  },
  {
   "cell_type": "markdown",
   "id": "203a2af3-0f07-4c54-af15-4b8b0f78bbf6",
   "metadata": {},
   "source": [
    "## SOS for CRN 22895 (MWF Lectures)"
   ]
  },
  {
   "cell_type": "code",
   "execution_count": 40,
   "id": "b7e9a251-5a78-4cc6-b795-018ba326f4eb",
   "metadata": {
    "tags": [
     "remove-input",
     "remove-output"
    ]
   },
   "outputs": [
    {
     "name": "stdout",
     "output_type": "stream",
     "text": [
      "| Topic      |   -- | Questions                                                                                                                                                                   |   1 |   2 |   3 |   4 |   5 |   NA |   N |   NR |   Mean |   Instructor Mean |\n",
      "|:-----------|-----:|:----------------------------------------------------------------------------------------------------------------------------------------------------------------------------|----:|----:|----:|----:|----:|-----:|----:|-----:|-------:|------------------:|\n",
      "| Course     |    1 | The course materials, exams, projects and/or papers in this class required me to think critically.                                                                          |   0 |   0 |   1 |   2 |   4 |    0 |   7 |    0 |   4.43 |              4.02 |\n",
      "| Course     |    2 | In order to get good grades on tests and assignments, I had to know the course materials outlined in the syllabus and discussed in class.                                   |   0 |   0 |   0 |   2 |   5 |    0 |   7 |    0 |   4.71 |              4.26 |\n",
      "| Course     |    3 | Overall, I have learned or benefited from this class.                                                                                                                       |   0 |   0 |   1 |   0 |   6 |    0 |   7 |    0 |   4.71 |              3.73 |\n",
      "| Instructor |    4 | In the first week of class, the instructor provided documents and information that clearly explained the course content, assignments, grading and other important policies. |   0 |   0 |   0 |   1 |   6 |    0 |   7 |    0 |   4.86 |              4.28 |\n",
      "| Instructor |    5 | The instructor welcomed questions and other class participation.                                                                                                            |   0 |   0 |   0 |   1 |   6 |    0 |   7 |    0 |   4.86 |              4.45 |\n",
      "| Instructor |    6 | The instructor was enthusiastic with respect to the subject matter.                                                                                                         |   0 |   0 |   0 |   0 |   7 |    0 |   7 |    0 |   5    |              4.62 |\n",
      "| Instructor |    7 | The instructor was available for consultation and helpful.                                                                                                                  |   0 |   0 |   0 |   1 |   6 |    0 |   7 |    0 |   4.86 |              4.18 |\n",
      "| Instructor |    8 | The instructor used the full time period allotted for the class.                                                                                                            |   0 |   0 |   0 |   1 |   6 |    0 |   7 |    0 |   4.86 |              4.56 |\n",
      "| Instructor |    9 | The instructor's presentations were informative.                                                                                                                            |   0 |   0 |   1 |   1 |   5 |    0 |   7 |    0 |   4.57 |              4.09 |\n",
      "| Instructor |   10 | Overall, the instructor is an effective teacher.                                                                                                                            |   0 |   0 |   0 |   2 |   5 |    0 |   7 |    0 |   4.71 |              3.86 |\n"
     ]
    }
   ],
   "source": [
    "sos=pd.read_excel('../../../../Student-Opinion-Surveys/201720-PHYS112-22895-SOS.xlsx',sheet_name='sos')\n",
    "sosmdtable=sos.to_markdown(index=False)\n",
    "print(sosmdtable)"
   ]
  },
  {
   "cell_type": "markdown",
   "id": "58edafac-ed70-4e84-8a5e-762fc5ce6960",
   "metadata": {},
   "source": [
    "| Topic      |   -- | Questions                                                                                                                                                                   |   1 |   2 |   3 |   4 |   5 |   NA |   N |   NR |   Mean |   Instructor Mean |\n",
    "|:-----------|-----:|:----------------------------------------------------------------------------------------------------------------------------------------------------------------------------|----:|----:|----:|----:|----:|-----:|----:|-----:|-------:|------------------:|\n",
    "| Course     |    1 | The course materials, exams, projects and/or papers in this class required me to think critically.                                                                          |   0 |   0 |   1 |   2 |   4 |    0 |   7 |    0 |   4.43 |              4.02 |\n",
    "| Course     |    2 | In order to get good grades on tests and assignments, I had to know the course materials outlined in the syllabus and discussed in class.                                   |   0 |   0 |   0 |   2 |   5 |    0 |   7 |    0 |   4.71 |              4.26 |\n",
    "| Course     |    3 | Overall, I have learned or benefited from this class.                                                                                                                       |   0 |   0 |   1 |   0 |   6 |    0 |   7 |    0 |   4.71 |              3.73 |\n",
    "| Instructor |    4 | In the first week of class, the instructor provided documents and information that clearly explained the course content, assignments, grading and other important policies. |   0 |   0 |   0 |   1 |   6 |    0 |   7 |    0 |   4.86 |              4.28 |\n",
    "| Instructor |    5 | The instructor welcomed questions and other class participation.                                                                                                            |   0 |   0 |   0 |   1 |   6 |    0 |   7 |    0 |   4.86 |              4.45 |\n",
    "| Instructor |    6 | The instructor was enthusiastic with respect to the subject matter.                                                                                                         |   0 |   0 |   0 |   0 |   7 |    0 |   7 |    0 |   5    |              4.62 |\n",
    "| Instructor |    7 | The instructor was available for consultation and helpful.                                                                                                                  |   0 |   0 |   0 |   1 |   6 |    0 |   7 |    0 |   4.86 |              4.18 |\n",
    "| Instructor |    8 | The instructor used the full time period allotted for the class.                                                                                                            |   0 |   0 |   0 |   1 |   6 |    0 |   7 |    0 |   4.86 |              4.56 |\n",
    "| Instructor |    9 | The instructor's presentations were informative.                                                                                                                            |   0 |   0 |   1 |   1 |   5 |    0 |   7 |    0 |   4.57 |              4.09 |\n",
    "| Instructor |   10 | Overall, the instructor is an effective teacher.                                                                                                                            |   0 |   0 |   0 |   2 |   5 |    0 |   7 |    0 |   4.71 |              3.86 |"
   ]
  },
  {
   "cell_type": "markdown",
   "id": "24a2dced-f589-4a4a-9e07-8c73f4cb3381",
   "metadata": {},
   "source": [
    "### Demographics Data"
   ]
  },
  {
   "cell_type": "markdown",
   "id": "a49c6ea5-65ae-43a8-a097-4d85646e03ad",
   "metadata": {},
   "source": [
    "<table style=\"border-collapse:collapse;\" class=\"tb\" cellpadding=\"0\" dir=\"ltr\"><tbody><tr><td style=\"padding-right:30px;padding-top:10px;vertical-align:top;\"><table style=\"border:1pt solid #000000;border-collapse:collapse;\" class=\"ls\" lid=\"List2_NS_\" cellpadding=\"0\" dir=\"ltr\"><tbody><tr><td style=\"font-weight:bold\" class=\"c_NS_155 lc\" rowspan=\"3\" cid=\"0\" uid=\"155\" name=\"c_NS_155\" type=\"datavalue\"><span tabindex=\"0\" ctx=\"62\">Age</span></td><td class=\"c_NS_157 lc\" cid=\"1\" uid=\"157\" name=\"c_NS_157\" type=\"datavalue\"><span tabindex=\"-1\" ctx=\"63:62:64\">20 &amp; Under</span></td><td class=\"c_NS_159 lc\" cid=\"2\" uid=\"159\" name=\"c_NS_159\" type=\"datavalue\"><span tabindex=\"-1\" style=\"visibility:hidden;color:white;\">-</span><span tabindex=\"-1\" ctx=\"64:62:63\">2</span></td></tr><tr><td class=\"c_NS_157 lc\" cid=\"1\" uid=\"157\" name=\"c_NS_157\" type=\"datavalue\"><span tabindex=\"-1\" ctx=\"65:62:66\">21 - 25</span></td><td class=\"c_NS_159 lc\" cid=\"2\" uid=\"159\" name=\"c_NS_159\" type=\"datavalue\"><span tabindex=\"-1\" style=\"visibility:hidden;color:white;\">-</span><span tabindex=\"-1\" ctx=\"66:62:65\">3</span></td></tr><tr><td class=\"c_NS_157 lc\" cid=\"1\" uid=\"157\" name=\"c_NS_157\" type=\"datavalue\"><span tabindex=\"-1\" ctx=\"67:62:64\">26 +&nbsp;</span></td><td class=\"c_NS_159 lc\" cid=\"2\" uid=\"159\" name=\"c_NS_159\" type=\"datavalue\"><span tabindex=\"-1\" style=\"visibility:hidden;color:white;\">-</span><span tabindex=\"-1\" ctx=\"64:62:67\">2</span></td></tr><tr><td style=\"font-weight:bold\" class=\"c_NS_155 lc\" rowspan=\"4\" cid=\"0\" uid=\"155\" name=\"c_NS_155\" type=\"datavalue\"><span tabindex=\"-1\" ctx=\"68\">Class Standing</span></td><td class=\"c_NS_157 lc\" cid=\"1\" uid=\"157\" name=\"c_NS_157\" type=\"datavalue\"><span tabindex=\"-1\" ctx=\"69:68:70\">Graduate</span></td><td class=\"c_NS_159 lc\" cid=\"2\" uid=\"159\" name=\"c_NS_159\" type=\"datavalue\"><span tabindex=\"-1\" style=\"visibility:hidden;color:white;\">-</span><span tabindex=\"-1\" ctx=\"70:68:69\">1</span></td></tr><tr><td class=\"c_NS_157 lc\" cid=\"1\" uid=\"157\" name=\"c_NS_157\" type=\"datavalue\"><span tabindex=\"-1\" ctx=\"71:68:72\">Junior</span></td><td class=\"c_NS_159 lc\" cid=\"2\" uid=\"159\" name=\"c_NS_159\" type=\"datavalue\"><span tabindex=\"-1\" style=\"visibility:hidden;color:white;\">-</span><span tabindex=\"-1\" ctx=\"72:68:71\">4</span></td></tr><tr><td class=\"c_NS_157 lc\" cid=\"1\" uid=\"157\" name=\"c_NS_157\" type=\"datavalue\"><span tabindex=\"-1\" ctx=\"73:68:70\">Senior</span></td><td class=\"c_NS_159 lc\" cid=\"2\" uid=\"159\" name=\"c_NS_159\" type=\"datavalue\"><span tabindex=\"-1\" style=\"visibility:hidden;color:white;\">-</span><span tabindex=\"-1\" ctx=\"70:68:73\">1</span></td></tr><tr><td class=\"c_NS_157 lc\" cid=\"1\" uid=\"157\" name=\"c_NS_157\" type=\"datavalue\"><span tabindex=\"-1\" ctx=\"74:68:70\">Sophomore</span></td><td class=\"c_NS_159 lc\" cid=\"2\" uid=\"159\" name=\"c_NS_159\" type=\"datavalue\"><span tabindex=\"-1\" style=\"visibility:hidden;color:white;\">-</span><span tabindex=\"-1\" ctx=\"70:68:74\">1</span></td></tr><tr><td style=\"font-weight:bold\" class=\"c_NS_155 lc\" rowspan=\"2\" cid=\"0\" uid=\"155\" name=\"c_NS_155\" type=\"datavalue\"><span tabindex=\"-1\" ctx=\"75\">Full or Part Time Student</span></td><td class=\"c_NS_157 lc\" cid=\"1\" uid=\"157\" name=\"c_NS_157\" type=\"datavalue\"><span tabindex=\"-1\" ctx=\"76:75:77\">Full-time</span></td><td class=\"c_NS_159 lc\" cid=\"2\" uid=\"159\" name=\"c_NS_159\" type=\"datavalue\"><span tabindex=\"-1\" style=\"visibility:hidden;color:white;\">-</span><span tabindex=\"-1\" ctx=\"77:75:76\">5</span></td></tr><tr><td class=\"c_NS_157 lc\" cid=\"1\" uid=\"157\" name=\"c_NS_157\" type=\"datavalue\"><span tabindex=\"-1\" ctx=\"78:75:64\">Part-time</span></td><td class=\"c_NS_159 lc\" cid=\"2\" uid=\"159\" name=\"c_NS_159\" type=\"datavalue\"><span tabindex=\"-1\" style=\"visibility:hidden;color:white;\">-</span><span tabindex=\"-1\" ctx=\"64:75:78\">2</span></td></tr><tr><td style=\"font-weight:bold\" class=\"c_NS_155 lc\" rowspan=\"2\" cid=\"0\" uid=\"155\" name=\"c_NS_155\" type=\"datavalue\"><span tabindex=\"-1\" ctx=\"79\">Gender</span></td><td class=\"c_NS_157 lc\" cid=\"1\" uid=\"157\" name=\"c_NS_157\" type=\"datavalue\"><span tabindex=\"-1\" ctx=\"80:79:72\">Female</span></td><td class=\"c_NS_159 lc\" cid=\"2\" uid=\"159\" name=\"c_NS_159\" type=\"datavalue\"><span tabindex=\"-1\" style=\"visibility:hidden;color:white;\">-</span><span tabindex=\"-1\" ctx=\"72:79:80\">4</span></td></tr><tr><td class=\"c_NS_157 lc\" cid=\"1\" uid=\"157\" name=\"c_NS_157\" type=\"datavalue\"><span tabindex=\"-1\" ctx=\"81:79:66\">Male</span></td><td class=\"c_NS_159 lc\" cid=\"2\" uid=\"159\" name=\"c_NS_159\" type=\"datavalue\"><span tabindex=\"-1\" style=\"visibility:hidden;color:white;\">-</span><span tabindex=\"-1\" ctx=\"66:79:81\">3</span></td></tr><tr><td style=\"font-weight:bold\" class=\"c_NS_155 lc\" rowspan=\"4\" cid=\"0\" uid=\"155\" name=\"c_NS_155\" type=\"datavalue\"><span tabindex=\"-1\" ctx=\"82\">Present GPA</span></td><td class=\"c_NS_157 lc\" cid=\"1\" uid=\"157\" name=\"c_NS_157\" type=\"datavalue\"><span tabindex=\"-1\" ctx=\"83:82:64\">2.00 To 2.49</span></td><td class=\"c_NS_159 lc\" cid=\"2\" uid=\"159\" name=\"c_NS_159\" type=\"datavalue\"><span tabindex=\"-1\" style=\"visibility:hidden;color:white;\">-</span><span tabindex=\"-1\" ctx=\"64:82:83\">2</span></td></tr><tr><td class=\"c_NS_157 lc\" cid=\"1\" uid=\"157\" name=\"c_NS_157\" type=\"datavalue\"><span tabindex=\"-1\" ctx=\"84:82:64\">3.00 To 3.49</span></td><td class=\"c_NS_159 lc\" cid=\"2\" uid=\"159\" name=\"c_NS_159\" type=\"datavalue\"><span tabindex=\"-1\" style=\"visibility:hidden;color:white;\">-</span><span tabindex=\"-1\" ctx=\"64:82:84\">2</span></td></tr><tr><td class=\"c_NS_157 lc\" cid=\"1\" uid=\"157\" name=\"c_NS_157\" type=\"datavalue\"><span tabindex=\"-1\" ctx=\"85:82:64\">3.50 +&nbsp;</span></td><td class=\"c_NS_159 lc\" cid=\"2\" uid=\"159\" name=\"c_NS_159\" type=\"datavalue\"><span tabindex=\"-1\" style=\"visibility:hidden;color:white;\">-</span><span tabindex=\"-1\" ctx=\"64:82:85\">2</span></td></tr><tr><td class=\"c_NS_157 lc\" cid=\"1\" uid=\"157\" name=\"c_NS_157\" type=\"datavalue\"><span tabindex=\"-1\" ctx=\"86:82:70\">Less Than 2.00</span></td><td class=\"c_NS_159 lc\" cid=\"2\" uid=\"159\" name=\"c_NS_159\" type=\"datavalue\"><span tabindex=\"-1\" style=\"visibility:hidden;color:white;\">-</span><span tabindex=\"-1\" ctx=\"70:82:86\">1</span></td></tr></tbody></table></td><td style=\"padding-top:10px;vertical-align:top;\"><table style=\"border:1pt solid #000000;border-collapse:collapse;\" class=\"ls\" lid=\"List3_NS_\" cellpadding=\"0\" dir=\"ltr\"><tbody><tr><td style=\"font-weight:bold\" class=\"c_NS_171 lc\" rowspan=\"2\" cid=\"0\" uid=\"171\" name=\"c_NS_171\" type=\"datavalue\"><span tabindex=\"0\" ctx=\"87\">Employed While Taking Course</span></td><td class=\"c_NS_173 lc\" cid=\"1\" uid=\"173\" name=\"c_NS_173\" type=\"datavalue\"><span tabindex=\"-1\" ctx=\"88:87:89\">Not employed</span></td><td class=\"c_NS_175 lc\" cid=\"2\" uid=\"175\" name=\"c_NS_175\" type=\"datavalue\"><span tabindex=\"-1\" style=\"visibility:hidden;color:white;\">-</span><span tabindex=\"-1\" ctx=\"89:87:88\">3</span></td></tr><tr><td class=\"c_NS_173 lc\" cid=\"1\" uid=\"173\" name=\"c_NS_173\" type=\"datavalue\"><span tabindex=\"-1\" ctx=\"90:87:91\">Part-time job</span></td><td class=\"c_NS_175 lc\" cid=\"2\" uid=\"175\" name=\"c_NS_175\" type=\"datavalue\"><span tabindex=\"-1\" style=\"visibility:hidden;color:white;\">-</span><span tabindex=\"-1\" ctx=\"91:87:90\">4</span></td></tr><tr><td style=\"font-weight:bold\" class=\"c_NS_171 lc\" rowspan=\"3\" cid=\"0\" uid=\"171\" name=\"c_NS_171\" type=\"datavalue\"><span tabindex=\"-1\" ctx=\"92\">Expected Course Grade</span></td><td class=\"c_NS_173 lc\" cid=\"1\" uid=\"173\" name=\"c_NS_173\" type=\"datavalue\"><span tabindex=\"-1\" ctx=\"93:92:94\">A</span></td><td class=\"c_NS_175 lc\" cid=\"2\" uid=\"175\" name=\"c_NS_175\" type=\"datavalue\"><span tabindex=\"-1\" style=\"visibility:hidden;color:white;\">-</span><span tabindex=\"-1\" ctx=\"94:92:93\">1</span></td></tr><tr><td class=\"c_NS_173 lc\" cid=\"1\" uid=\"173\" name=\"c_NS_173\" type=\"datavalue\"><span tabindex=\"-1\" ctx=\"95:92:96\">B</span></td><td class=\"c_NS_175 lc\" cid=\"2\" uid=\"175\" name=\"c_NS_175\" type=\"datavalue\"><span tabindex=\"-1\" style=\"visibility:hidden;color:white;\">-</span><span tabindex=\"-1\" ctx=\"96:92:95\">5</span></td></tr><tr><td class=\"c_NS_173 lc\" cid=\"1\" uid=\"173\" name=\"c_NS_173\" type=\"datavalue\"><span tabindex=\"-1\" ctx=\"97:92:94\">C</span></td><td class=\"c_NS_175 lc\" cid=\"2\" uid=\"175\" name=\"c_NS_175\" type=\"datavalue\"><span tabindex=\"-1\" style=\"visibility:hidden;color:white;\">-</span><span tabindex=\"-1\" ctx=\"94:92:97\">1</span></td></tr><tr><td style=\"font-weight:bold\" class=\"c_NS_171 lc\" rowspan=\"3\" cid=\"0\" uid=\"171\" name=\"c_NS_171\" type=\"datavalue\"><span tabindex=\"-1\" ctx=\"98\">Hours Per Week Spent Preparing for Class</span></td><td class=\"c_NS_173 lc\" cid=\"1\" uid=\"173\" name=\"c_NS_173\" type=\"datavalue\"><span tabindex=\"-1\" ctx=\"99:98:94\">0 to 2</span></td><td class=\"c_NS_175 lc\" cid=\"2\" uid=\"175\" name=\"c_NS_175\" type=\"datavalue\"><span tabindex=\"-1\" style=\"visibility:hidden;color:white;\">-</span><span tabindex=\"-1\" ctx=\"94:98:99\">1</span></td></tr><tr><td class=\"c_NS_173 lc\" cid=\"1\" uid=\"173\" name=\"c_NS_173\" type=\"datavalue\"><span tabindex=\"-1\" ctx=\"100:98:89\">3 to 5</span></td><td class=\"c_NS_175 lc\" cid=\"2\" uid=\"175\" name=\"c_NS_175\" type=\"datavalue\"><span tabindex=\"-1\" style=\"visibility:hidden;color:white;\">-</span><span tabindex=\"-1\" ctx=\"89:98:100\">3</span></td></tr><tr><td class=\"c_NS_173 lc\" cid=\"1\" uid=\"173\" name=\"c_NS_173\" type=\"datavalue\"><span tabindex=\"-1\" ctx=\"101:98:89\">6 to 8</span></td><td class=\"c_NS_175 lc\" cid=\"2\" uid=\"175\" name=\"c_NS_175\" type=\"datavalue\"><span tabindex=\"-1\" style=\"visibility:hidden;color:white;\">-</span><span tabindex=\"-1\" ctx=\"89:98:101\">3</span></td></tr><tr><td style=\"font-weight:bold\" class=\"c_NS_171 lc\" rowspan=\"2\" cid=\"0\" uid=\"171\" name=\"c_NS_171\" type=\"datavalue\"><span tabindex=\"-1\" ctx=\"102\">I Attended Class</span></td><td class=\"c_NS_173 lc\" cid=\"1\" uid=\"173\" name=\"c_NS_173\" type=\"datavalue\"><span tabindex=\"-1\" ctx=\"103:102:96\">All</span></td><td class=\"c_NS_175 lc\" cid=\"2\" uid=\"175\" name=\"c_NS_175\" type=\"datavalue\"><span tabindex=\"-1\" style=\"visibility:hidden;color:white;\">-</span><span tabindex=\"-1\" ctx=\"96:102:103\">5</span></td></tr><tr><td class=\"c_NS_173 lc\" cid=\"1\" uid=\"173\" name=\"c_NS_173\" type=\"datavalue\"><span tabindex=\"-1\" ctx=\"104:102:105\">Most</span></td><td class=\"c_NS_175 lc\" cid=\"2\" uid=\"175\" name=\"c_NS_175\" type=\"datavalue\"><span tabindex=\"-1\" style=\"visibility:hidden;color:white;\">-</span><span tabindex=\"-1\" ctx=\"105:102:104\">2</span></td></tr><tr><td style=\"font-weight:bold\" class=\"c_NS_171 lc\" rowspan=\"3\" cid=\"0\" uid=\"171\" name=\"c_NS_171\" type=\"datavalue\"><span tabindex=\"-1\" ctx=\"106\">Reason for Taking Course</span></td><td class=\"c_NS_173 lc\" cid=\"1\" uid=\"173\" name=\"c_NS_173\" type=\"datavalue\"><span tabindex=\"-1\" ctx=\"107:106:105\">Gen. Ed requirement</span></td><td class=\"c_NS_175 lc\" cid=\"2\" uid=\"175\" name=\"c_NS_175\" type=\"datavalue\"><span tabindex=\"-1\" style=\"visibility:hidden;color:white;\">-</span><span tabindex=\"-1\" ctx=\"105:106:107\">2</span></td></tr><tr><td class=\"c_NS_173 lc\" cid=\"1\" uid=\"173\" name=\"c_NS_173\" type=\"datavalue\"><span tabindex=\"-1\" ctx=\"108:106:94\">Other</span></td><td class=\"c_NS_175 lc\" cid=\"2\" uid=\"175\" name=\"c_NS_175\" type=\"datavalue\"><span tabindex=\"-1\" style=\"visibility:hidden;color:white;\">-</span><span tabindex=\"-1\" ctx=\"94:106:108\">1</span></td></tr><tr><td class=\"c_NS_173 lc\" cid=\"1\" uid=\"173\" name=\"c_NS_173\" type=\"datavalue\"><span tabindex=\"-1\" ctx=\"109:106:91\">Required for Major</span></td><td class=\"c_NS_175 lc\" cid=\"2\" uid=\"175\" name=\"c_NS_175\" type=\"datavalue\"><span tabindex=\"-1\" style=\"visibility:hidden;color:white;\">-</span><span tabindex=\"-1\" ctx=\"91:106:109\">4</span></td></tr></tbody></table></td></tr></tbody></table>"
   ]
  },
  {
   "cell_type": "markdown",
   "id": "d4e2bd70-47d4-4ba0-a646-47553c20aa2a",
   "metadata": {},
   "source": [
    "### Essay Responses"
   ]
  },
  {
   "cell_type": "code",
   "execution_count": 52,
   "id": "2b1ffda7-c107-42dd-aa3e-0503d45e43e9",
   "metadata": {
    "tags": [
     "remove-input",
     "remove-output"
    ]
   },
   "outputs": [
    {
     "name": "stdout",
     "output_type": "stream",
     "text": [
      "**What changes, if any, could be made to the class that would have helped you to learn more? What could the instructor have done to make the course an even better learning experience?**\n",
      "\n",
      "```{toggle}\n",
      "* None\n",
      "* nothing\n",
      "* The equations to be more like the homework since some of the questions on the homework were a bit more challenging. Also Professor Nerem knows that some questions on the homework, answer wise were wrong but he was more than willing to help with the situation.\n",
      "\n",
      "```\n",
      "\n",
      "**What could you have done to make the course an even better learning experience?**\n",
      "\n",
      "```{toggle}\n",
      "* I could have done more of the homework and been more attentive.\n",
      "* I guess not despise the subject of physics.\n",
      "* None\n",
      "* Probably more attention to what he says and explains rather than just writing lots of notes.\n",
      "\n",
      "```\n",
      "\n",
      "**What did you like most about the class and your instructor?**\n",
      "\n",
      "```{toggle}\n",
      "* I like my instructor be because he took the time to help me learn the material. he had demos to actually show the concepts of what we would be learning.  Physics on the other hand isn't my thing so I am not too fond of the class it self.\n",
      "* I liked that he was helpful in and out of lecture.\n",
      "* My professor was enthusiastic about teaching physics.\n",
      "* Professor Nerem is very enthusiastic about physics and gives many examples and demonstrations so that we understand the practical applications.\n",
      "\n",
      "```\n",
      "\n",
      "**What factors about this class contributed the most to your learning? What aspects of this class helped you to learn to think critically?**\n",
      "\n",
      "```{toggle}\n",
      "* The clicker questions\n",
      "* The equations done in class helped the most.\n",
      "* The homework and in-class reviews helped practice the content.\n",
      "* the homework and test contributed to me learning the most and helped me to think critically.\n",
      "\n",
      "```\n",
      "\n",
      "**What factors about your own performance helped you learn the most? What did you do to facilitate your learning?**\n",
      "\n",
      "```{toggle}\n",
      "* I did most of the homework and followed along in class.\n",
      "* the help center and my professors offices hours\n",
      "* The masteringphysics homework made me critically think about the topics we learned in lecture.\n",
      "\n",
      "```{toggle}\n"
     ]
    }
   ],
   "source": [
    "essay=pd.read_excel('../../../../Student-Opinion-Surveys/201720-PHYS112-22895-SOS.xlsx',sheet_name='Essay-Responses')\n",
    "\n",
    "QUESTIONS = [\n",
    "    'What changes, if any, could be made to the class that would have helped you to learn more? What could the instructor have done to make the course an even better learning experience?',\n",
    "    'What could you have done to make the course an even better learning experience?',\n",
    "    'What did you like most about the class and your instructor?',\n",
    "    'What factors about this class contributed the most to your learning? What aspects of this class helped you to learn to think critically?',\n",
    "    'What factors about your own performance helped you learn the most? What did you do to facilitate your learning?',\n",
    "]\n",
    "\n",
    "first_toggle=True\n",
    "for response in essay['Essay Questions:'].tolist():\n",
    "    if response in QUESTIONS:\n",
    "        if first_toggle:\n",
    "            first_toggle=False\n",
    "        else:\n",
    "            print('\\n```\\n')\n",
    "        print('**'+response+'**')\n",
    "        print('\\n```{toggle}')\n",
    "    else:\n",
    "        print('* '+response)\n",
    "    \n",
    "print('\\n```{toggle}')"
   ]
  },
  {
   "cell_type": "markdown",
   "id": "75d34859-f2ac-4900-9892-c70a25f9db11",
   "metadata": {},
   "source": [
    "**What changes, if any, could be made to the class that would have helped you to learn more? What could the instructor have done to make the course an even better learning experience?**\n",
    "\n",
    "```{toggle}\n",
    "* None\n",
    "* nothing\n",
    "* The equations to be more like the homework since some of the questions on the homework were a bit more challenging. Also Professor Nerem knows that some questions on the homework, answer wise were wrong but he was more than willing to help with the situation.\n",
    "\n",
    "```\n",
    "\n",
    "**What could you have done to make the course an even better learning experience?**\n",
    "\n",
    "```{toggle}\n",
    "* I could have done more of the homework and been more attentive.\n",
    "* I guess not despise the subject of physics.\n",
    "* None\n",
    "* Probably more attention to what he says and explains rather than just writing lots of notes.\n",
    "\n",
    "```\n",
    "\n",
    "**What did you like most about the class and your instructor?**\n",
    "\n",
    "```{toggle}\n",
    "* I like my instructor be because he took the time to help me learn the material. he had demos to actually show the concepts of what we would be learning.  Physics on the other hand isn't my thing so I am not too fond of the class it self.\n",
    "* I liked that he was helpful in and out of lecture.\n",
    "* My professor was enthusiastic about teaching physics.\n",
    "* Professor Nerem is very enthusiastic about physics and gives many examples and demonstrations so that we understand the practical applications.\n",
    "\n",
    "```\n",
    "\n",
    "**What factors about this class contributed the most to your learning? What aspects of this class helped you to learn to think critically?**\n",
    "\n",
    "```{toggle}\n",
    "* The clicker questions\n",
    "* The equations done in class helped the most.\n",
    "* The homework and in-class reviews helped practice the content.\n",
    "* the homework and test contributed to me learning the most and helped me to think critically.\n",
    "\n",
    "```\n",
    "\n",
    "**What factors about your own performance helped you learn the most? What did you do to facilitate your learning?**\n",
    "\n",
    "```{toggle}\n",
    "* I did most of the homework and followed along in class.\n",
    "* the help center and my professors offices hours\n",
    "* The masteringphysics homework made me critically think about the topics we learned in lecture.\n",
    "\n",
    "```{toggle}"
   ]
  }
 ],
 "metadata": {
  "kernelspec": {
   "display_name": "Python 3",
   "language": "python",
   "name": "python3"
  },
  "language_info": {
   "codemirror_mode": {
    "name": "ipython",
    "version": 3
   },
   "file_extension": ".py",
   "mimetype": "text/x-python",
   "name": "python",
   "nbconvert_exporter": "python",
   "pygments_lexer": "ipython3",
   "version": "3.6.9"
  }
 },
 "nbformat": 4,
 "nbformat_minor": 5
}
